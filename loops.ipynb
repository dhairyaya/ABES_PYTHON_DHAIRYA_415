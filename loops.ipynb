{
 "cells": [
  {
   "cell_type": "code",
   "execution_count": null,
   "id": "e03b6389",
   "metadata": {},
   "outputs": [
    {
     "name": "stdout",
     "output_type": "stream",
     "text": [
      "1\n",
      "2\n",
      "3\n",
      "4\n",
      "5\n"
     ]
    }
   ],
   "source": [
    "i=1\n",
    "while i<6:\n",
    "    print(i)\n",
    "    i=i+1\n",
    "    "
   ]
  },
  {
   "cell_type": "code",
   "execution_count": null,
   "id": "27e96eab",
   "metadata": {},
   "outputs": [
    {
     "name": "stdout",
     "output_type": "stream",
     "text": [
      "You dumb dumb!!\n"
     ]
    }
   ],
   "source": [
    "v = int(input(\"Enter a number between 1 and 10: \"))\n",
    "i = 1\n",
    "\n",
    "while i <= 10:\n",
    "    if i == v:\n",
    "        print(\"Number found!\")\n",
    "        break\n",
    "    i += 1\n",
    "else:\n",
    "    print(\"You dumb dumb!!\")\n",
    "\n",
    "#guessing game\n"
   ]
  },
  {
   "cell_type": "code",
   "execution_count": null,
   "id": "f110d4c0",
   "metadata": {},
   "outputs": [
    {
     "name": "stdout",
     "output_type": "stream",
     "text": [
      "The square of the number is: 16\n",
      "The square of the number is: 64\n"
     ]
    }
   ],
   "source": [
    "a=int(input(\"Enter a number:\"))\n",
    "print(f\"The square of the number is:\",(a**2)) #for square \n",
    "print(f\"The square of the number is:\",(a**3))  #for cube"
   ]
  },
  {
   "cell_type": "code",
   "execution_count": 17,
   "id": "da196ca2",
   "metadata": {},
   "outputs": [
    {
     "name": "stdout",
     "output_type": "stream",
     "text": [
      "The numbers are: (3, 3)\n"
     ]
    }
   ],
   "source": [
    "a=int(input(\"Enter a number:\"))\n",
    "b=int(input(\"Enter a number:\"))\n",
    "a,b=b,a\n",
    "print(f\"The numbers are:\",(a,b))"
   ]
  },
  {
   "cell_type": "code",
   "execution_count": null,
   "id": "6a7143f1",
   "metadata": {},
   "outputs": [
    {
     "name": "stdout",
     "output_type": "stream",
     "text": [
      "3 is odd.\n"
     ]
    }
   ],
   "source": [
    "a=int(input(\"Enter a number:\"))\n",
    "if(a%2==0):\n",
    "    print(f\"{a} is even.\")\n",
    "else:\n",
    "    print(f\"{a} is odd.\")    "
   ]
  },
  {
   "cell_type": "code",
   "execution_count": 1,
   "id": "a1e15d4a",
   "metadata": {},
   "outputs": [
    {
     "name": "stdout",
     "output_type": "stream",
     "text": [
      "1\n",
      "2\n",
      "4\n",
      "5\n",
      "6\n",
      "7\n",
      "8\n",
      "9\n"
     ]
    }
   ],
   "source": [
    "i=1\n",
    "while i<10:\n",
    "    if(i==3):\n",
    "        i=i+1\n",
    "        continue\n",
    "    print(i)\n",
    "    i=i+1"
   ]
  },
  {
   "cell_type": "code",
   "execution_count": null,
   "id": "a9a17e7f",
   "metadata": {},
   "outputs": [],
   "source": []
  }
 ],
 "metadata": {
  "kernelspec": {
   "display_name": "base",
   "language": "python",
   "name": "python3"
  },
  "language_info": {
   "codemirror_mode": {
    "name": "ipython",
    "version": 3
   },
   "file_extension": ".py",
   "mimetype": "text/x-python",
   "name": "python",
   "nbconvert_exporter": "python",
   "pygments_lexer": "ipython3",
   "version": "3.13.5"
  }
 },
 "nbformat": 4,
 "nbformat_minor": 5
}
