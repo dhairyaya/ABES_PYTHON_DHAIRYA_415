{
 "cells": [
  {
   "cell_type": "code",
   "execution_count": 1,
   "id": "200715d5",
   "metadata": {},
   "outputs": [],
   "source": [
    "tuple1=(\"apple\",\"banana\",\"cherrry\")\n",
    "tuple2=(1,2,3,4,5)\n",
    "tuple3=(True,False,True)"
   ]
  },
  {
   "cell_type": "code",
   "execution_count": 3,
   "id": "5ffab228",
   "metadata": {},
   "outputs": [
    {
     "name": "stdout",
     "output_type": "stream",
     "text": [
      "YES\n"
     ]
    }
   ],
   "source": [
    "tuple1=(\"apple\",\"banana\",\"cherrry\")\n",
    "if \"apple\" in tuple1:\n",
    "    print(\"YES\")"
   ]
  },
  {
   "cell_type": "code",
   "execution_count": null,
   "id": "9aa01ffd",
   "metadata": {},
   "outputs": [
    {
     "name": "stdout",
     "output_type": "stream",
     "text": [
      "('apple', 'kiwi', 'cherrry')\n"
     ]
    }
   ],
   "source": [
    "x=(\"apple\",\"banana\",\"cherrry\")\n",
    "y=list(x)\n",
    "y[1]=\"kiwi\"\n",
    "x=tuple(y)      #To add an element in tuple,first change it into list then,update then convert back to tuple\n",
    "print(x)"
   ]
  },
  {
   "cell_type": "code",
   "execution_count": null,
   "id": "8fda7d0b",
   "metadata": {},
   "outputs": [
    {
     "name": "stdout",
     "output_type": "stream",
     "text": [
      "('apple', 'banana', 'cherrry', 'orange', 'mango')\n"
     ]
    }
   ],
   "source": [
    "x=(\"apple\",\"banana\",\"cherrry\")\n",
    "y=(\"orange\",\"mango\")\n",
    "x+=y\n",
    "print(x)          # to add using + sign \n"
   ]
  },
  {
   "cell_type": "code",
   "execution_count": null,
   "id": "6822c160",
   "metadata": {},
   "outputs": [
    {
     "name": "stdout",
     "output_type": "stream",
     "text": [
      "('apple', 'banana', 'cherrry', 'orange')\n"
     ]
    }
   ],
   "source": [
    "x=(\"apple\",\"banana\",\"cherrry\")\n",
    "y=list(x)\n",
    "y.append(\"orange\")\n",
    "x=tuple(y)     #To add using append\n",
    "print(x)"
   ]
  },
  {
   "cell_type": "code",
   "execution_count": 9,
   "id": "25c9004e",
   "metadata": {},
   "outputs": [
    {
     "name": "stdout",
     "output_type": "stream",
     "text": [
      "('apple', 'banana')\n"
     ]
    }
   ],
   "source": [
    "x=(\"apple\",\"banana\",\"cherry\")\n",
    "y=list(x)\n",
    "y.remove(\"cherry\")\n",
    "x=tuple(y)     #To remove element in tuple\n",
    "print(x)"
   ]
  },
  {
   "cell_type": "code",
   "execution_count": null,
   "id": "a679ab8a",
   "metadata": {},
   "outputs": [
    {
     "name": "stdout",
     "output_type": "stream",
     "text": [
      "apple\n",
      "banana\n",
      "cherrry\n"
     ]
    }
   ],
   "source": [
    "x=(\"apple\",\"banana\",\"cherrry\")\n",
    "(green,yellow,red)=x                    #UNPACKING\n",
    "print(green)\n",
    "print(yellow)\n",
    "print(red)"
   ]
  },
  {
   "cell_type": "markdown",
   "id": "603c3e91",
   "metadata": {},
   "source": [
    "# DICTIONARY"
   ]
  },
  {
   "cell_type": "code",
   "execution_count": 11,
   "id": "53818794",
   "metadata": {},
   "outputs": [
    {
     "data": {
      "text/plain": [
       "{'Brand': 'Ford', 'Model': 'Mustang'}"
      ]
     },
     "execution_count": 11,
     "metadata": {},
     "output_type": "execute_result"
    }
   ],
   "source": [
    "d={\"Brand\":\"Ford\",\"Model\":\"Mustang\"}\n",
    "d"
   ]
  },
  {
   "cell_type": "code",
   "execution_count": 13,
   "id": "512a286c",
   "metadata": {},
   "outputs": [
    {
     "data": {
      "text/plain": [
       "{'Brand': 'Ford', 'Model': 'Mustang', 'Year': '2020'}"
      ]
     },
     "execution_count": 13,
     "metadata": {},
     "output_type": "execute_result"
    }
   ],
   "source": [
    "d={\"Brand\":\"Ford\",\"Model\":\"Mustang\",\"Year\":\"1980\",\"Year\":\"2020\"}\n",
    "# for a key it will only print the latest value\n",
    "d"
   ]
  },
  {
   "cell_type": "code",
   "execution_count": null,
   "id": "4d3ccdb0",
   "metadata": {},
   "outputs": [
    {
     "data": {
      "text/plain": [
       "dict"
      ]
     },
     "execution_count": 14,
     "metadata": {},
     "output_type": "execute_result"
    }
   ],
   "source": [
    "type(d)"
   ]
  },
  {
   "cell_type": "code",
   "execution_count": 15,
   "id": "e6c347d9",
   "metadata": {},
   "outputs": [
    {
     "data": {
      "text/plain": [
       "3"
      ]
     },
     "execution_count": 15,
     "metadata": {},
     "output_type": "execute_result"
    }
   ],
   "source": [
    "len(d)"
   ]
  },
  {
   "cell_type": "code",
   "execution_count": 16,
   "id": "283ff88a",
   "metadata": {},
   "outputs": [
    {
     "data": {
      "text/plain": [
       "{'name': 'aman', 'age': 20, 'city': 'Delhi'}"
      ]
     },
     "execution_count": 16,
     "metadata": {},
     "output_type": "execute_result"
    }
   ],
   "source": [
    "d=dict(name=\"aman\",age=20,city=\"Delhi\")\n",
    "d"
   ]
  },
  {
   "cell_type": "code",
   "execution_count": null,
   "id": "b82c31c3",
   "metadata": {},
   "outputs": [],
   "source": []
  }
 ],
 "metadata": {
  "kernelspec": {
   "display_name": "Python 3",
   "language": "python",
   "name": "python3"
  },
  "language_info": {
   "codemirror_mode": {
    "name": "ipython",
    "version": 3
   },
   "file_extension": ".py",
   "mimetype": "text/x-python",
   "name": "python",
   "nbconvert_exporter": "python",
   "pygments_lexer": "ipython3",
   "version": "3.13.3"
  }
 },
 "nbformat": 4,
 "nbformat_minor": 5
}
