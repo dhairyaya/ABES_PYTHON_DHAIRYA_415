{
 "cells": [
  {
   "cell_type": "code",
   "execution_count": 1,
   "id": "af79ce10",
   "metadata": {},
   "outputs": [],
   "source": [
    "var1=1\n",
    "var2=True\n",
    "var3=10.023"
   ]
  },
  {
   "cell_type": "code",
   "execution_count": 2,
   "id": "57caebcf",
   "metadata": {},
   "outputs": [
    {
     "data": {
      "text/plain": [
       "float"
      ]
     },
     "execution_count": 2,
     "metadata": {},
     "output_type": "execute_result"
    }
   ],
   "source": [
    "type(var1)\n",
    "type(var2)\n",
    "type(var3)"
   ]
  },
  {
   "cell_type": "code",
   "execution_count": 4,
   "id": "621f6346",
   "metadata": {},
   "outputs": [
    {
     "name": "stdout",
     "output_type": "stream",
     "text": [
      "<class 'int'>\n"
     ]
    }
   ],
   "source": [
    "print(type(var1))"
   ]
  },
  {
   "cell_type": "code",
   "execution_count": 5,
   "id": "2639fdc5",
   "metadata": {},
   "outputs": [
    {
     "name": "stdout",
     "output_type": "stream",
     "text": [
      "<class 'bool'>\n"
     ]
    }
   ],
   "source": [
    "print(type(var2))"
   ]
  },
  {
   "cell_type": "code",
   "execution_count": 6,
   "id": "22b1bb62",
   "metadata": {},
   "outputs": [
    {
     "name": "stdout",
     "output_type": "stream",
     "text": [
      "Hello World!\n",
      "Hello my Friend\n"
     ]
    }
   ],
   "source": [
    "#Single line String(' ' and \" \")\n",
    "a=\"Hello World!\"\n",
    "b=\"Hello my Friend\"\n",
    "print(a)\n",
    "print(b)"
   ]
  },
  {
   "cell_type": "code",
   "execution_count": 7,
   "id": "d76fe38c",
   "metadata": {},
   "outputs": [
    {
     "name": "stdout",
     "output_type": "stream",
     "text": [
      "Enumerating objects: 4, done.\n",
      "Counting objects: 100% (4/4), done.\n",
      "Delta compression using up to 12 threads\n",
      "Compressing objects: 100% (3/3), done.\n"
     ]
    }
   ],
   "source": [
    "#MUltiline String(''' ''')\n",
    "c='''Enumerating objects: 4, done.\n",
    "Counting objects: 100% (4/4), done.\n",
    "Delta compression using up to 12 threads\n",
    "Compressing objects: 100% (3/3), done.'''\n",
    "print(c)"
   ]
  },
  {
   "cell_type": "code",
   "execution_count": 1,
   "id": "163fd0b5",
   "metadata": {},
   "outputs": [
    {
     "name": "stdout",
     "output_type": "stream",
     "text": [
      "Dhairya Pratap Solanki\n",
      "DhairyaPra\n"
     ]
    }
   ],
   "source": [
    "#String Length\n",
    "arr=\"Dhairya Pratap Solanki\"\n",
    "ar=\"DhairyaPra\"\n",
    "print(arr)\n",
    "print(ar)"
   ]
  },
  {
   "cell_type": "code",
   "execution_count": null,
   "id": "5428fdfa",
   "metadata": {},
   "outputs": [
    {
     "name": "stdout",
     "output_type": "stream",
     "text": [
      "True\n"
     ]
    }
   ],
   "source": [
    "#Check String\n",
    "txt=\"The ultimate truth of life is time!!\"\n",
    "print('time' in txt) #Returns bool value for words in string"
   ]
  },
  {
   "cell_type": "code",
   "execution_count": 3,
   "id": "02d7ab51",
   "metadata": {},
   "outputs": [
    {
     "name": "stdout",
     "output_type": "stream",
     "text": [
      "llo\n"
     ]
    }
   ],
   "source": [
    "#Slicing Strings\n",
    "b=\"Hello World!\"\n",
    "print(b[2:5])"
   ]
  },
  {
   "cell_type": "code",
   "execution_count": 4,
   "id": "39e3828c",
   "metadata": {},
   "outputs": [
    {
     "name": "stdout",
     "output_type": "stream",
     "text": [
      "Hello\n"
     ]
    }
   ],
   "source": [
    "#From Start\n",
    "print(b[:5])"
   ]
  },
  {
   "cell_type": "code",
   "execution_count": 5,
   "id": "0b2eedc6",
   "metadata": {},
   "outputs": [
    {
     "name": "stdout",
     "output_type": "stream",
     "text": [
      "llo World!\n"
     ]
    }
   ],
   "source": [
    "#To The End \n",
    "print(b[2:])"
   ]
  },
  {
   "cell_type": "code",
   "execution_count": null,
   "id": "78f07b88",
   "metadata": {},
   "outputs": [
    {
     "name": "stdout",
     "output_type": "stream",
     "text": [
      "orl\n"
     ]
    }
   ],
   "source": [
    "# Negative # In Python, negative indexes count from the right\n",
    "# W   o   r   l   d   !\n",
    "# -6 -5  -4  -3  -2  -1\n",
    "print(b[-5:-2])"
   ]
  },
  {
   "cell_type": "code",
   "execution_count": 7,
   "id": "760c872e",
   "metadata": {},
   "outputs": [
    {
     "name": "stdout",
     "output_type": "stream",
     "text": [
      "HELLO WORLD!\n",
      "hello world!\n",
      "Hello World!\n"
     ]
    }
   ],
   "source": [
    "#Modify Strings\n",
    "a=\"Hello World!\"\n",
    "print(a.upper())\n",
    "print(a.lower())\n",
    "print(a.strip())"
   ]
  },
  {
   "cell_type": "code",
   "execution_count": null,
   "id": "e8a5e9dc",
   "metadata": {},
   "outputs": [
    {
     "name": "stdout",
     "output_type": "stream",
     "text": [
      "Apple is Green\n"
     ]
    }
   ],
   "source": [
    "b=\"   Apple is Green  \"\n",
    "print(b.strip()) #removes unnecessary spaces at the start and end of string"
   ]
  },
  {
   "cell_type": "code",
   "execution_count": 1,
   "id": "eba00c93",
   "metadata": {},
   "outputs": [
    {
     "name": "stdout",
     "output_type": "stream",
     "text": [
      "Jello World!\n"
     ]
    }
   ],
   "source": [
    "a=\"Hello World!\" #Replace String\n",
    "print(a.replace(\"H\",\"J\"))"
   ]
  },
  {
   "cell_type": "code",
   "execution_count": 6,
   "id": "b468290f",
   "metadata": {},
   "outputs": [
    {
     "name": "stdout",
     "output_type": "stream",
     "text": [
      "['Hello', 'World!!']\n"
     ]
    }
   ],
   "source": [
    "#Split String\n",
    "a=\"Hello World!!\"\n",
    "b=a.split()\n",
    "print(b)"
   ]
  },
  {
   "cell_type": "code",
   "execution_count": 4,
   "id": "8bcc59bf",
   "metadata": {},
   "outputs": [
    {
     "name": "stdout",
     "output_type": "stream",
     "text": [
      "Hello World!\n"
     ]
    }
   ],
   "source": [
    "a=\"Hello\"\n",
    "b=\" World!\"\n",
    "c=a+b\n",
    "print(c)"
   ]
  },
  {
   "cell_type": "code",
   "execution_count": 5,
   "id": "f22fc3b2",
   "metadata": {},
   "outputs": [
    {
     "name": "stdout",
     "output_type": "stream",
     "text": [
      "My name is Dhairya,I am 20 years old\n"
     ]
    }
   ],
   "source": [
    "#Format String\n",
    "age=20\n",
    "txt=f\"My name is Dhairya,I am {age} years old\"\n",
    "#f is used to add integer to string , it came to python in the version 3.6\n",
    "print(txt)\n"
   ]
  },
  {
   "cell_type": "code",
   "execution_count": 9,
   "id": "13312f08",
   "metadata": {},
   "outputs": [
    {
     "name": "stdout",
     "output_type": "stream",
     "text": [
      "True\n",
      "True\n",
      "False\n"
     ]
    }
   ],
   "source": [
    "#Booleans\n",
    "#Evaluate values and variables\n",
    "print(bool(\"Hello\"))\n",
    "print(bool(25))\n",
    "print(bool(0))"
   ]
  },
  {
   "cell_type": "code",
   "execution_count": 13,
   "id": "53aa3d28",
   "metadata": {},
   "outputs": [
    {
     "name": "stdout",
     "output_type": "stream",
     "text": [
      "False\n"
     ]
    }
   ],
   "source": [
    "#Functions returning boolean \n",
    "def myfunc():\n",
    "    return False\n",
    "\n",
    "print(myfunc())\n",
    "    "
   ]
  }
 ],
 "metadata": {
  "kernelspec": {
   "display_name": "base",
   "language": "python",
   "name": "python3"
  },
  "language_info": {
   "codemirror_mode": {
    "name": "ipython",
    "version": 3
   },
   "file_extension": ".py",
   "mimetype": "text/x-python",
   "name": "python",
   "nbconvert_exporter": "python",
   "pygments_lexer": "ipython3",
   "version": "3.13.5"
  }
 },
 "nbformat": 4,
 "nbformat_minor": 5
}
