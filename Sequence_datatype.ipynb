{
 "cells": [
  {
   "cell_type": "code",
   "execution_count": 1,
   "id": "17d91a33",
   "metadata": {},
   "outputs": [
    {
     "name": "stdout",
     "output_type": "stream",
     "text": [
      "['abcd', 786, 2.23, 'john', 79.2]\n",
      "abcd\n",
      "[786, 2.23]\n",
      "[2.23, 'john', 79.2]\n",
      "[123, 'John', 123, 'John']\n",
      "['abcd', 786, 2.23, 'john', 79.2, 123, 'John']\n"
     ]
    }
   ],
   "source": [
    "#list\n",
    "list=['abcd', 786, 2.23, 'john', 79.2]\n",
    "tinylist=[123,'John']\n",
    "\n",
    "print(list)                  #Prints complete list\n",
    "print(list[0])               #Prints first element of the list\n",
    "print(list[1:3])             #Prints elements from 2nd till 3rd\n",
    "print(list[2:])              #Prints starting from 2nd\n",
    "print(tinylist * 2)          #Prints list two times\n",
    "print(list + tinylist)       #Prints concatenated list"
   ]
  },
  {
   "cell_type": "code",
   "execution_count": null,
   "id": "10909062",
   "metadata": {},
   "outputs": [
    {
     "name": "stdout",
     "output_type": "stream",
     "text": [
      "0\n",
      "1\n",
      "2\n",
      "3\n",
      "4\n",
      "2\n",
      "3\n",
      "4\n",
      "1\n",
      "3\n"
     ]
    }
   ],
   "source": [
    "#range(start,stop,step\n",
    "#start - starting position(optional,default-0)\n",
    "#stop - ending position(mandatory)\n",
    "#step-to specify increment (optional,default:1)\n",
    "for i in range(5):\n",
    "    print(i)\n"
   ]
  },
  {
   "cell_type": "code",
   "execution_count": 4,
   "id": "617d409a",
   "metadata": {},
   "outputs": [
    {
     "name": "stdout",
     "output_type": "stream",
     "text": [
      "2\n",
      "3\n",
      "4\n"
     ]
    }
   ],
   "source": [
    "for i in range(2,5):\n",
    "    print(i)       \n"
   ]
  },
  {
   "cell_type": "code",
   "execution_count": 5,
   "id": "e684a5f6",
   "metadata": {},
   "outputs": [
    {
     "name": "stdout",
     "output_type": "stream",
     "text": [
      "1\n",
      "3\n"
     ]
    }
   ],
   "source": [
    "for i in range(1,5,2):\n",
    "    print(i)"
   ]
  }
 ],
 "metadata": {
  "kernelspec": {
   "display_name": "base",
   "language": "python",
   "name": "python3"
  },
  "language_info": {
   "codemirror_mode": {
    "name": "ipython",
    "version": 3
   },
   "file_extension": ".py",
   "mimetype": "text/x-python",
   "name": "python",
   "nbconvert_exporter": "python",
   "pygments_lexer": "ipython3",
   "version": "3.13.5"
  }
 },
 "nbformat": 4,
 "nbformat_minor": 5
}
