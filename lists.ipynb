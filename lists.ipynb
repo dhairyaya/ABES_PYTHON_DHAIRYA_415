{
 "cells": [
  {
   "cell_type": "markdown",
   "id": "9b8f81db",
   "metadata": {},
   "source": [
    "# Lists"
   ]
  },
  {
   "cell_type": "code",
   "execution_count": 5,
   "id": "69ed61fe",
   "metadata": {},
   "outputs": [
    {
     "name": "stdout",
     "output_type": "stream",
     "text": [
      "['apple', 'banana', 'mango']\n"
     ]
    }
   ],
   "source": [
    "fruits=['apple','banana','mango']\n",
    "print(fruits)"
   ]
  },
  {
   "cell_type": "code",
   "execution_count": 6,
   "id": "43b3cdb5",
   "metadata": {},
   "outputs": [
    {
     "name": "stdout",
     "output_type": "stream",
     "text": [
      "apple\n",
      "banana\n",
      "mango\n"
     ]
    }
   ],
   "source": [
    "fruits=['apple','banana','mango']\n",
    "for x in fruits:\n",
    "    print(x)"
   ]
  },
  {
   "cell_type": "markdown",
   "id": "2f0896ae",
   "metadata": {},
   "source": [
    "# Break in lists"
   ]
  },
  {
   "cell_type": "code",
   "execution_count": 8,
   "id": "e10ed3f5",
   "metadata": {},
   "outputs": [
    {
     "name": "stdout",
     "output_type": "stream",
     "text": [
      "apple\n"
     ]
    }
   ],
   "source": [
    "fruits=['apple','banana','mango']\n",
    "for x in fruits:\n",
    "    if(x=='banana'):\n",
    "         break\n",
    "    else:\n",
    "        print(x)"
   ]
  },
  {
   "cell_type": "markdown",
   "id": "9f458943",
   "metadata": {},
   "source": [
    "# Continue in list "
   ]
  },
  {
   "cell_type": "code",
   "execution_count": 9,
   "id": "6d7f9497",
   "metadata": {},
   "outputs": [
    {
     "name": "stdout",
     "output_type": "stream",
     "text": [
      "apple\n",
      "mango\n"
     ]
    }
   ],
   "source": [
    "fruits=['apple','banana','mango']\n",
    "for x in fruits:\n",
    "    if(x=='banana'):\n",
    "         continue\n",
    "    else:\n",
    "        print(x)"
   ]
  },
  {
   "cell_type": "markdown",
   "id": "38e257f7",
   "metadata": {},
   "source": [
    "# For else loop"
   ]
  },
  {
   "cell_type": "code",
   "execution_count": 12,
   "id": "0b3fcd87",
   "metadata": {},
   "outputs": [
    {
     "name": "stdout",
     "output_type": "stream",
     "text": [
      "1\n",
      "3\n",
      "5\n",
      "7\n",
      "9\n",
      "Finally\n"
     ]
    }
   ],
   "source": [
    "for x in range(1,10,2):\n",
    "    print(x)\n",
    "else:\n",
    "    print(\"Finally\")"
   ]
  },
  {
   "cell_type": "code",
   "execution_count": 14,
   "id": "f402a34c",
   "metadata": {},
   "outputs": [
    {
     "name": "stdout",
     "output_type": "stream",
     "text": [
      "1\n",
      "2\n",
      "3\n",
      "4\n",
      "5\n",
      "Finally\n"
     ]
    }
   ],
   "source": [
    "i=1\n",
    "while i<6:\n",
    "    print(i)\n",
    "    i=i+1\n",
    "else:  \n",
    "    print(\"Finally\")"
   ]
  },
  {
   "cell_type": "code",
   "execution_count": 15,
   "id": "f9022e12",
   "metadata": {},
   "outputs": [
    {
     "name": "stdout",
     "output_type": "stream",
     "text": [
      "a apple\n",
      "a banana\n",
      "a mango\n",
      "b apple\n",
      "b banana\n",
      "b mango\n",
      "c apple\n",
      "c banana\n",
      "c mango\n"
     ]
    }
   ],
   "source": [
    "z=[\"a\",\"b\",\"c\"]\n",
    "fruits=['apple','banana','mango']\n",
    "for x in z:\n",
    "    for y in fruits:\n",
    "        print(x,y)"
   ]
  },
  {
   "cell_type": "code",
   "execution_count": 2,
   "id": "fb5f5522",
   "metadata": {},
   "outputs": [
    {
     "name": "stdout",
     "output_type": "stream",
     "text": [
      "['Rohan', 1, 3]\n"
     ]
    }
   ],
   "source": [
    "list1=[\"Rohan\",1,3]\n",
    "print (list1)   #list is ordered,changable and allows duplication"
   ]
  },
  {
   "cell_type": "markdown",
   "id": "012a1f16",
   "metadata": {},
   "source": [
    "# LIST Constructor"
   ]
  },
  {
   "cell_type": "code",
   "execution_count": null,
   "id": "089a2596",
   "metadata": {},
   "outputs": [
    {
     "data": {
      "text/plain": [
       "list['rohan', 1, 3, 'rohan', 'apple', 'apple']"
      ]
     },
     "execution_count": 3,
     "metadata": {},
     "output_type": "execute_result"
    }
   ],
   "source": [
    "list2=list[(\"rohan\",1,3,\"rohan\",\"apple\",\"apple\")]\n",
    "list2            #duplication is allowed"
   ]
  },
  {
   "cell_type": "markdown",
   "id": "0ff039ff",
   "metadata": {},
   "source": [
    "\n",
    "# Access item in list"
   ]
  },
  {
   "cell_type": "code",
   "execution_count": 5,
   "id": "f0dc97ab",
   "metadata": {},
   "outputs": [
    {
     "name": "stdout",
     "output_type": "stream",
     "text": [
      "rohan\n"
     ]
    }
   ],
   "source": [
    "list1=[\"rohan\",1,3,\"rohan\",\"apple\",\"apple\"]\n",
    "print(list1[3])"
   ]
  },
  {
   "cell_type": "markdown",
   "id": "cce2ed63",
   "metadata": {},
   "source": [
    "# Range of index"
   ]
  },
  {
   "cell_type": "code",
   "execution_count": 6,
   "id": "7ac428bc",
   "metadata": {},
   "outputs": [
    {
     "name": "stdout",
     "output_type": "stream",
     "text": [
      "[3, 'rohan', 'apple']\n",
      "[3, 'rohan', 'apple']\n"
     ]
    }
   ],
   "source": [
    "list1=[\"rohan\",1,3,\"rohan\",\"apple\",\"apple\"]\n",
    "print(list1[2:5])\n",
    "print(list1[-4:-1])"
   ]
  },
  {
   "cell_type": "code",
   "execution_count": 7,
   "id": "9a58bed3",
   "metadata": {},
   "outputs": [
    {
     "name": "stdout",
     "output_type": "stream",
     "text": [
      "Yes\n"
     ]
    }
   ],
   "source": [
    "list1=[\"rohan\",1,3,\"rohan\",\"apple\",\"apple\"]\n",
    "if \"apple\" in list1:\n",
    "    print(\"Yes\")"
   ]
  },
  {
   "cell_type": "markdown",
   "id": "a1e8bb22",
   "metadata": {},
   "source": [
    "# Change in  lists"
   ]
  },
  {
   "cell_type": "code",
   "execution_count": 10,
   "id": "f096c9a5",
   "metadata": {},
   "outputs": [
    {
     "name": "stdout",
     "output_type": "stream",
     "text": [
      "['ram', 1, 3, 'rohan', 'apple', 'apple']\n"
     ]
    }
   ],
   "source": [
    "list1=[\"rohan\",1,3,\"rohan\",\"apple\",\"apple\"]\n",
    "list1[0]=\"ram\"\n",
    "print(list1)"
   ]
  },
  {
   "cell_type": "code",
   "execution_count": 12,
   "id": "e23821c0",
   "metadata": {},
   "outputs": [
    {
     "name": "stdout",
     "output_type": "stream",
     "text": [
      "['rohan', 'AMAN', 'rahul', 'rohan', 'apple', 'apple']\n"
     ]
    }
   ],
   "source": [
    "list1=[\"rohan\",1,3,\"rohan\",\"apple\",\"apple\"]\n",
    "list1[1:3]=\"AMAN\",\"rahul\"\n",
    "print(list1)"
   ]
  },
  {
   "cell_type": "markdown",
   "id": "a500ebc3",
   "metadata": {},
   "source": [
    "# Insert"
   ]
  },
  {
   "cell_type": "code",
   "execution_count": 13,
   "id": "15ef34f4",
   "metadata": {},
   "outputs": [
    {
     "name": "stdout",
     "output_type": "stream",
     "text": [
      "['rohan', 1, 'hello', 3, 'rohan', 'apple', 'apple']\n"
     ]
    }
   ],
   "source": [
    "list1=[\"rohan\",1,3,\"rohan\",\"apple\",\"apple\"]\n",
    "list1.insert(2,\"hello\")\n",
    "print(list1)"
   ]
  },
  {
   "cell_type": "markdown",
   "id": "709829bc",
   "metadata": {},
   "source": [
    "# Append"
   ]
  },
  {
   "cell_type": "code",
   "execution_count": 15,
   "id": "2ffb056b",
   "metadata": {},
   "outputs": [
    {
     "name": "stdout",
     "output_type": "stream",
     "text": [
      "['rohan', 1, 'hello', 3, 'rohan', 'apple', 'apple', 'World', 'World']\n"
     ]
    }
   ],
   "source": [
    "list1.append(\"World\")\n",
    "print(list1)"
   ]
  },
  {
   "cell_type": "markdown",
   "id": "908a0457",
   "metadata": {},
   "source": [
    "# Extend"
   ]
  },
  {
   "cell_type": "code",
   "execution_count": 16,
   "id": "720399f4",
   "metadata": {},
   "outputs": [
    {
     "name": "stdout",
     "output_type": "stream",
     "text": [
      "['rohan', 1, 3, 'rohan', 'apple', 'apple', 'mango', 4, 6]\n"
     ]
    }
   ],
   "source": [
    "list1=[\"rohan\",1,3,\"rohan\",\"apple\",\"apple\"]\n",
    "list2=[\"mango\",4,6]\n",
    "list1.extend(list2)\n",
    "print(list1)"
   ]
  },
  {
   "cell_type": "markdown",
   "id": "70f9cf99",
   "metadata": {},
   "source": [
    "# Remove"
   ]
  },
  {
   "cell_type": "code",
   "execution_count": 18,
   "id": "3a24b1c7",
   "metadata": {},
   "outputs": [
    {
     "data": {
      "text/plain": [
       "[1, 3, 'rohan', 'apple', 'apple']"
      ]
     },
     "execution_count": 18,
     "metadata": {},
     "output_type": "execute_result"
    }
   ],
   "source": [
    "list1=[\"rohan\",1,3,\"rohan\",\"apple\",\"apple\"]\n",
    "list1.remove(\"rohan\")\n",
    "list1"
   ]
  },
  {
   "cell_type": "markdown",
   "id": "10553afa",
   "metadata": {},
   "source": [
    "# Pop\n"
   ]
  },
  {
   "cell_type": "code",
   "execution_count": 19,
   "id": "5f45c901",
   "metadata": {},
   "outputs": [
    {
     "name": "stdout",
     "output_type": "stream",
     "text": [
      "['rohan', 1, 3, 'apple', 'apple']\n"
     ]
    }
   ],
   "source": [
    "list1=[\"rohan\",1,3,\"rohan\",\"apple\",\"apple\"]\n",
    "list1.pop(3)\n",
    "print(list1)"
   ]
  },
  {
   "cell_type": "markdown",
   "id": "030aab1f",
   "metadata": {},
   "source": [
    "# Clear"
   ]
  },
  {
   "cell_type": "code",
   "execution_count": 5,
   "id": "3e078a88",
   "metadata": {},
   "outputs": [
    {
     "name": "stdout",
     "output_type": "stream",
     "text": [
      "[]\n"
     ]
    }
   ],
   "source": [
    "list1=[\"rohan\",1,3,\"rohan\",\"apple\",\"apple\"]\n",
    "list1.clear()\n",
    "print(list1)"
   ]
  },
  {
   "cell_type": "code",
   "execution_count": 10,
   "id": "11f85f76",
   "metadata": {},
   "outputs": [
    {
     "name": "stdout",
     "output_type": "stream",
     "text": [
      "Apple\n",
      "Banana\n",
      "Mango\n"
     ]
    }
   ],
   "source": [
    "list2=[\"Apple\",\"Banana\",\"Mango\"]\n",
    "for i in range (len(list2)):\n",
    "    print(list2[i])"
   ]
  },
  {
   "cell_type": "code",
   "execution_count": 11,
   "id": "249f6b4a",
   "metadata": {},
   "outputs": [
    {
     "name": "stdout",
     "output_type": "stream",
     "text": [
      "rohan\n",
      "1\n",
      "3\n",
      "rohan\n",
      "apple\n",
      "apple\n"
     ]
    }
   ],
   "source": [
    "list1=[\"rohan\",1,3,\"rohan\",\"apple\",\"apple\"]\n",
    "i=0\n",
    "while i<len(list1):\n",
    "    print(list1[i])\n",
    "    i=i+1"
   ]
  },
  {
   "cell_type": "code",
   "execution_count": 12,
   "id": "40c0af95",
   "metadata": {},
   "outputs": [
    {
     "ename": "SyntaxError",
     "evalue": "invalid syntax (1183130098.py, line 2)",
     "output_type": "error",
     "traceback": [
      "  \u001b[36mCell\u001b[39m\u001b[36m \u001b[39m\u001b[32mIn[12]\u001b[39m\u001b[32m, line 2\u001b[39m\n\u001b[31m    \u001b[39m\u001b[31mprint(x) for x in list2:\u001b[39m\n             ^\n\u001b[31mSyntaxError\u001b[39m\u001b[31m:\u001b[39m invalid syntax\n"
     ]
    }
   ],
   "source": [
    "list2=[\"Apple\",\"Banana\",\"Mango\"]\n",
    "print(x) for x in list2:\n",
    "    "
   ]
  },
  {
   "cell_type": "code",
   "execution_count": 17,
   "id": "04d56d6e",
   "metadata": {},
   "outputs": [
    {
     "name": "stdout",
     "output_type": "stream",
     "text": [
      "['APPLE', 'BANANA', 'KIWI', 'MANGO', 'CHERRY']\n"
     ]
    }
   ],
   "source": [
    "fruits=[\"apple\",\"banana\",\"kiwi\",\"Mango\",\"Cherry\"]\n",
    "FRuits = [x.upper() for x in fruits]         #Convert to upper case \n",
    "print(FRuits)\n"
   ]
  },
  {
   "cell_type": "code",
   "execution_count": null,
   "id": "771f3402",
   "metadata": {},
   "outputs": [
    {
     "name": "stdout",
     "output_type": "stream",
     "text": [
      "['apple', 'banana', 'kiwi', 'mango', 'cherry']\n"
     ]
    }
   ],
   "source": [
    "fruits=[\"aPPle\",\"banANa\",\"Kiwi\",\"MaNgo\",\"CheRrY\"]\n",
    "FRuits = [x.lower() for x in fruits]                #Convert to lower case \n",
    "print(FRuits)\n"
   ]
  },
  {
   "cell_type": "code",
   "execution_count": 18,
   "id": "71126404",
   "metadata": {},
   "outputs": [
    {
     "name": "stdout",
     "output_type": "stream",
     "text": [
      "['Apple', 'Banana', 'Kiwi', 'Mango', 'Cherry']\n"
     ]
    }
   ],
   "source": [
    "fruits=[\"apple\",\"banana\",\"kiwi\",\"Mango\",\"Cherry\"]\n",
    "FRuits = [x.capitalize() for x in fruits]  #Capital letter for first letter of each word\n",
    "print(FRuits)\n"
   ]
  },
  {
   "cell_type": "markdown",
   "id": "0ee89283",
   "metadata": {},
   "source": [
    "# Sort\n"
   ]
  },
  {
   "cell_type": "code",
   "execution_count": 1,
   "id": "f028ee4e",
   "metadata": {},
   "outputs": [
    {
     "name": "stdout",
     "output_type": "stream",
     "text": [
      "['c', 'd', 'h', 'k', 'o', 'r', 't', 'u', 'w']\n"
     ]
    }
   ],
   "source": [
    "duckworth=[\"d\",\"u\",\"c\",\"k\",\"w\",\"o\",\"r\",\"t\",\"h\"]\n",
    "duckworth.sort()\n",
    "print(duckworth)"
   ]
  },
  {
   "cell_type": "markdown",
   "id": "d3a00d35",
   "metadata": {},
   "source": [
    "# Reverse list"
   ]
  },
  {
   "cell_type": "code",
   "execution_count": 3,
   "id": "b63d2fbb",
   "metadata": {},
   "outputs": [
    {
     "name": "stdout",
     "output_type": "stream",
     "text": [
      "['w', 'u', 't', 'r', 'o', 'k', 'h', 'd', 'c']\n"
     ]
    }
   ],
   "source": [
    "duckworth=[\"d\",\"u\",\"c\",\"k\",\"w\",\"o\",\"r\",\"t\",\"h\"]\n",
    "duckworth.sort(reverse=True)\n",
    "#duckworth.reverse()\n",
    "print(duckworth)"
   ]
  },
  {
   "cell_type": "markdown",
   "id": "4606579d",
   "metadata": {},
   "source": [
    "# Joining lits"
   ]
  },
  {
   "cell_type": "code",
   "execution_count": 3,
   "id": "254fa9cf",
   "metadata": {},
   "outputs": [
    {
     "name": "stdout",
     "output_type": "stream",
     "text": [
      "['d', 'u', 'c', 'k', 'w', 'o', 'r', 't', 'h', 'apple', 'banana', 'kiwi', 'Mango', 'Cherry']\n"
     ]
    }
   ],
   "source": [
    "list1=[\"d\",\"u\",\"c\",\"k\",\"w\",\"o\",\"r\",\"t\",\"h\"]\n",
    "list2=[\"apple\",\"banana\",\"kiwi\",\"Mango\",\"Cherry\"]\n",
    "for a in list2:\n",
    "    list1.append(a)\n",
    "print(list1)    "
   ]
  },
  {
   "cell_type": "code",
   "execution_count": 4,
   "id": "2570bc0c",
   "metadata": {},
   "outputs": [
    {
     "name": "stdout",
     "output_type": "stream",
     "text": [
      "['d', 'u', 'c', 'k', 'w', 'o', 'r', 't', 'h', 'apple', 'banana', 'kiwi', 'Mango', 'Cherry']\n"
     ]
    }
   ],
   "source": [
    "list1=[\"d\",\"u\",\"c\",\"k\",\"w\",\"o\",\"r\",\"t\",\"h\"]\n",
    "list2=[\"apple\",\"banana\",\"kiwi\",\"Mango\",\"Cherry\"]\n",
    "list3=list1+list2\n",
    "print(list3)"
   ]
  },
  {
   "cell_type": "code",
   "execution_count": 5,
   "id": "d84c287d",
   "metadata": {},
   "outputs": [
    {
     "name": "stdout",
     "output_type": "stream",
     "text": [
      "['d', 'u', 'c', 'k', 'w', 'o', 'r', 't', 'h', 'a', 'p', 'p', 'l', 'e', 'b', 'a', 'n', 'a', 'n', 'a', 'k', 'i', 'w', 'i', 'M', 'a', 'n', 'g', 'o', 'C', 'h', 'e', 'r', 'r', 'y']\n"
     ]
    }
   ],
   "source": [
    "list1=[\"d\",\"u\",\"c\",\"k\",\"w\",\"o\",\"r\",\"t\",\"h\"]\n",
    "list2=[\"apple\",\"banana\",\"kiwi\",\"Mango\",\"Cherry\"]\n",
    "for a in list2:\n",
    "    list1.extend(a)\n",
    "print(list1)    "
   ]
  },
  {
   "cell_type": "code",
   "execution_count": null,
   "id": "ff3804d2",
   "metadata": {},
   "outputs": [],
   "source": []
  }
 ],
 "metadata": {
  "kernelspec": {
   "display_name": "Python 3",
   "language": "python",
   "name": "python3"
  },
  "language_info": {
   "codemirror_mode": {
    "name": "ipython",
    "version": 3
   },
   "file_extension": ".py",
   "mimetype": "text/x-python",
   "name": "python",
   "nbconvert_exporter": "python",
   "pygments_lexer": "ipython3",
   "version": "3.13.3"
  }
 },
 "nbformat": 4,
 "nbformat_minor": 5
}
