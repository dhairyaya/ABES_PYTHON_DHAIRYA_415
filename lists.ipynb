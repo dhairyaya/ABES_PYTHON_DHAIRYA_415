{
 "cells": [
  {
   "cell_type": "markdown",
   "id": "9b8f81db",
   "metadata": {},
   "source": [
    "# Lists"
   ]
  },
  {
   "cell_type": "code",
   "execution_count": 5,
   "id": "69ed61fe",
   "metadata": {},
   "outputs": [
    {
     "name": "stdout",
     "output_type": "stream",
     "text": [
      "['apple', 'banana', 'mango']\n"
     ]
    }
   ],
   "source": [
    "fruits=['apple','banana','mango']\n",
    "print(fruits)"
   ]
  },
  {
   "cell_type": "code",
   "execution_count": 6,
   "id": "43b3cdb5",
   "metadata": {},
   "outputs": [
    {
     "name": "stdout",
     "output_type": "stream",
     "text": [
      "apple\n",
      "banana\n",
      "mango\n"
     ]
    }
   ],
   "source": [
    "fruits=['apple','banana','mango']\n",
    "for x in fruits:\n",
    "    print(x)"
   ]
  },
  {
   "cell_type": "markdown",
   "id": "2f0896ae",
   "metadata": {},
   "source": [
    "# Break in lists"
   ]
  },
  {
   "cell_type": "code",
   "execution_count": 8,
   "id": "e10ed3f5",
   "metadata": {},
   "outputs": [
    {
     "name": "stdout",
     "output_type": "stream",
     "text": [
      "apple\n"
     ]
    }
   ],
   "source": [
    "fruits=['apple','banana','mango']\n",
    "for x in fruits:\n",
    "    if(x=='banana'):\n",
    "         break\n",
    "    else:\n",
    "        print(x)"
   ]
  },
  {
   "cell_type": "markdown",
   "id": "9f458943",
   "metadata": {},
   "source": [
    "# Continue in list "
   ]
  },
  {
   "cell_type": "code",
   "execution_count": 9,
   "id": "6d7f9497",
   "metadata": {},
   "outputs": [
    {
     "name": "stdout",
     "output_type": "stream",
     "text": [
      "apple\n",
      "mango\n"
     ]
    }
   ],
   "source": [
    "fruits=['apple','banana','mango']\n",
    "for x in fruits:\n",
    "    if(x=='banana'):\n",
    "         continue\n",
    "    else:\n",
    "        print(x)"
   ]
  },
  {
   "cell_type": "markdown",
   "id": "38e257f7",
   "metadata": {},
   "source": [
    "# For else loop"
   ]
  },
  {
   "cell_type": "code",
   "execution_count": 12,
   "id": "0b3fcd87",
   "metadata": {},
   "outputs": [
    {
     "name": "stdout",
     "output_type": "stream",
     "text": [
      "1\n",
      "3\n",
      "5\n",
      "7\n",
      "9\n",
      "Finally\n"
     ]
    }
   ],
   "source": [
    "for x in range(1,10,2):\n",
    "    print(x)\n",
    "else:\n",
    "    print(\"Finally\")"
   ]
  },
  {
   "cell_type": "code",
   "execution_count": 14,
   "id": "f402a34c",
   "metadata": {},
   "outputs": [
    {
     "name": "stdout",
     "output_type": "stream",
     "text": [
      "1\n",
      "2\n",
      "3\n",
      "4\n",
      "5\n",
      "Finally\n"
     ]
    }
   ],
   "source": [
    "i=1\n",
    "while i<6:\n",
    "    print(i)\n",
    "    i=i+1\n",
    "else:  \n",
    "    print(\"Finally\")"
   ]
  },
  {
   "cell_type": "code",
   "execution_count": 15,
   "id": "f9022e12",
   "metadata": {},
   "outputs": [
    {
     "name": "stdout",
     "output_type": "stream",
     "text": [
      "a apple\n",
      "a banana\n",
      "a mango\n",
      "b apple\n",
      "b banana\n",
      "b mango\n",
      "c apple\n",
      "c banana\n",
      "c mango\n"
     ]
    }
   ],
   "source": [
    "z=[\"a\",\"b\",\"c\"]\n",
    "fruits=['apple','banana','mango']\n",
    "for x in z:\n",
    "    for y in fruits:\n",
    "        print(x,y)"
   ]
  },
  {
   "cell_type": "markdown",
   "id": "5cc7c487",
   "metadata": {},
   "source": []
  },
  {
   "cell_type": "markdown",
   "id": "d80b81ba",
   "metadata": {},
   "source": []
  },
  {
   "cell_type": "code",
   "execution_count": null,
   "id": "56898354",
   "metadata": {},
   "outputs": [],
   "source": [
    "|"
   ]
  }
 ],
 "metadata": {
  "kernelspec": {
   "display_name": "base",
   "language": "python",
   "name": "python3"
  },
  "language_info": {
   "codemirror_mode": {
    "name": "ipython",
    "version": 3
   },
   "file_extension": ".py",
   "mimetype": "text/x-python",
   "name": "python",
   "nbconvert_exporter": "python",
   "pygments_lexer": "ipython3",
   "version": "3.13.5"
  }
 },
 "nbformat": 4,
 "nbformat_minor": 5
}
